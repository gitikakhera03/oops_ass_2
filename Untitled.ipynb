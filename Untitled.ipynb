{
 "cells": [
  {
   "cell_type": "code",
   "execution_count": 7,
   "id": "67d54da4-24f2-42d3-b286-7e7a69571b00",
   "metadata": {},
   "outputs": [],
   "source": [
    "\"\"\"class are nothing just a descriptipon of the functions and different types of objects in it..\"\"\"\n",
    "\"\"\"and objects are the copy of the class we can accesss any class function with the help of object only\"\"\"\n",
    "#eg\n",
    "class pwskill:\n",
    "    def student_details(self,name,email):\n",
    "        self.name=name\n",
    "        self.email=email\n",
    "    def return_details(self):\n",
    "        return(self.name,self.email)\n",
    "    "
   ]
  },
  {
   "cell_type": "code",
   "execution_count": 9,
   "id": "9309da38-0e32-4a84-84eb-1476696eedc2",
   "metadata": {},
   "outputs": [],
   "source": [
    "#object\n",
    "pw=pwskill()"
   ]
  },
  {
   "cell_type": "code",
   "execution_count": 13,
   "id": "4718c4b8-d439-45d1-8f83-120e206e8387",
   "metadata": {},
   "outputs": [],
   "source": [
    "pw.student_details(\"fur\",\"fur@gmail.com\")"
   ]
  },
  {
   "cell_type": "code",
   "execution_count": 14,
   "id": "98bfa3b3-64b5-4e06-a909-a4422d2e536f",
   "metadata": {},
   "outputs": [
    {
     "data": {
      "text/plain": [
       "'fur'"
      ]
     },
     "execution_count": 14,
     "metadata": {},
     "output_type": "execute_result"
    }
   ],
   "source": [
    "pw.name"
   ]
  },
  {
   "cell_type": "code",
   "execution_count": 11,
   "id": "73ebf502-ef45-4e63-abec-354f63847336",
   "metadata": {},
   "outputs": [],
   "source": [
    "#question 2\n",
    "#inheritance\n",
    "#polymorphism\n",
    "#abstraction\n",
    "#encapsulation"
   ]
  },
  {
   "cell_type": "code",
   "execution_count": 12,
   "id": "d287adf9-de0b-4159-be40-bd70fae9fca8",
   "metadata": {},
   "outputs": [],
   "source": [
    "#question 3\n",
    "#__init__is used to take the the input \n"
   ]
  },
  {
   "cell_type": "code",
   "execution_count": 20,
   "id": "cfaf0b66-3467-4da1-8c31-ddcae772ad5f",
   "metadata": {},
   "outputs": [],
   "source": [
    "#self is used to bind that function with the class\n",
    "class pwskill:\n",
    "    def __init__(self,name):\n",
    "        self.name=name\n",
    "        "
   ]
  },
  {
   "cell_type": "code",
   "execution_count": 21,
   "id": "936d88f1-5068-4e93-84cb-7ceb6745e305",
   "metadata": {},
   "outputs": [],
   "source": [
    "p=pwskill(\"hero\")"
   ]
  },
  {
   "cell_type": "code",
   "execution_count": 22,
   "id": "40357978-418a-4073-a023-98e7695d3348",
   "metadata": {},
   "outputs": [
    {
     "data": {
      "text/plain": [
       "'hero'"
      ]
     },
     "execution_count": 22,
     "metadata": {},
     "output_type": "execute_result"
    }
   ],
   "source": [
    "p.name"
   ]
  },
  {
   "cell_type": "code",
   "execution_count": 27,
   "id": "1810354b-3ee6-4be4-be24-7da2b41c9f0a",
   "metadata": {},
   "outputs": [],
   "source": [
    "\"\"\"inheritance means inherit the parent property\"\"\"\n",
    "#muliple inheritance\n",
    "#multilevel inheritance\n",
    "class parent:\n",
    "    def fun1(self):\n",
    "        print(\"this is function in parent class\")\n",
    "class child(parent):\n",
    "    def fun2(self):\n",
    "        print(\"this is child class\")\n",
    "\n",
    "        \n",
    "        "
   ]
  },
  {
   "cell_type": "code",
   "execution_count": 28,
   "id": "a6a86da6-91b6-4f57-945a-f64e17e9cee4",
   "metadata": {},
   "outputs": [],
   "source": [
    "pw=child()"
   ]
  },
  {
   "cell_type": "code",
   "execution_count": 30,
   "id": "d5759418-bc3f-49b7-a865-462564991d1b",
   "metadata": {},
   "outputs": [
    {
     "name": "stdout",
     "output_type": "stream",
     "text": [
      "this is function in parent class\n"
     ]
    }
   ],
   "source": [
    "pw.fun1()"
   ]
  },
  {
   "cell_type": "code",
   "execution_count": null,
   "id": "f3df6034-140a-44c5-9b2b-583bcc18fdc9",
   "metadata": {},
   "outputs": [],
   "source": []
  }
 ],
 "metadata": {
  "kernelspec": {
   "display_name": "Python 3 (ipykernel)",
   "language": "python",
   "name": "python3"
  },
  "language_info": {
   "codemirror_mode": {
    "name": "ipython",
    "version": 3
   },
   "file_extension": ".py",
   "mimetype": "text/x-python",
   "name": "python",
   "nbconvert_exporter": "python",
   "pygments_lexer": "ipython3",
   "version": "3.10.8"
  }
 },
 "nbformat": 4,
 "nbformat_minor": 5
}
